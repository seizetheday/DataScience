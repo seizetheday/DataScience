{
  "cells": [
    {
      "cell_type": "markdown",
      "metadata": {
        "colab_type": "text",
        "id": "view-in-github"
      },
      "source": [
        "<a href=\"https://colab.research.google.com/github/seizetheday/pandas/blob/main/pandas_and_numpy.ipynb\" target=\"_parent\"><img src=\"https://colab.research.google.com/assets/colab-badge.svg\" alt=\"Open In Colab\"/></a>"
      ]
    },
    {
      "cell_type": "code",
      "execution_count": 1,
      "metadata": {
        "id": "TJA8uiTjpHNu"
      },
      "outputs": [],
      "source": [
        "import pandas as pd\n",
        "import numpy as np"
      ]
    },
    {
      "cell_type": "markdown",
      "metadata": {
        "id": "VJfK9uXLpzqa"
      },
      "source": [
        "# Data sample"
      ]
    },
    {
      "cell_type": "code",
      "execution_count": 2,
      "metadata": {
        "id": "o79sLRL8pQB9"
      },
      "outputs": [],
      "source": [
        "data = {'Country': ['Belgium',  'India',  'Brazil'],\n",
        "'Capital': ['Brussels',  'New Delhi',  'Brasilia'],\n",
        "'Population': [100, 100, 200]} \n",
        "\n",
        "df = pd.DataFrame(data,columns=['Country',  'Capital',  'Population'])"
      ]
    },
    {
      "cell_type": "code",
      "execution_count": 3,
      "metadata": {
        "colab": {
          "base_uri": "https://localhost:8080/"
        },
        "id": "LPHlVI2dp6df",
        "outputId": "50efb96f-f215-490a-9927-6b85f17077ab"
      },
      "outputs": [
        {
          "data": {
            "text/plain": [
              "False"
            ]
          },
          "execution_count": 3,
          "metadata": {},
          "output_type": "execute_result"
        }
      ],
      "source": [
        "(df['Population'] == 100).all()"
      ]
    },
    {
      "cell_type": "code",
      "execution_count": 7,
      "metadata": {
        "id": "Dg9rrkst-bWx"
      },
      "outputs": [],
      "source": [
        "df = pd.read_csv('datas\\DFJ_2021.csv')"
      ]
    },
    {
      "cell_type": "code",
      "execution_count": 9,
      "metadata": {},
      "outputs": [
        {
          "data": {
            "text/html": [
              "<div>\n",
              "<style scoped>\n",
              "    .dataframe tbody tr th:only-of-type {\n",
              "        vertical-align: middle;\n",
              "    }\n",
              "\n",
              "    .dataframe tbody tr th {\n",
              "        vertical-align: top;\n",
              "    }\n",
              "\n",
              "    .dataframe thead th {\n",
              "        text-align: right;\n",
              "    }\n",
              "</style>\n",
              "<table border=\"1\" class=\"dataframe\">\n",
              "  <thead>\n",
              "    <tr style=\"text-align: right;\">\n",
              "      <th></th>\n",
              "      <th>date</th>\n",
              "      <th>symbol</th>\n",
              "      <th>open</th>\n",
              "      <th>high</th>\n",
              "      <th>low</th>\n",
              "      <th>close</th>\n",
              "      <th>volume</th>\n",
              "      <th>openint</th>\n",
              "      <th>amount</th>\n",
              "    </tr>\n",
              "  </thead>\n",
              "  <tbody>\n",
              "    <tr>\n",
              "      <th>0</th>\n",
              "      <td>2021-01-04</td>\n",
              "      <td>DFJ0</td>\n",
              "      <td>2432.5</td>\n",
              "      <td>2523.0</td>\n",
              "      <td>2423.5</td>\n",
              "      <td>2514.0</td>\n",
              "      <td>244709</td>\n",
              "      <td>207826</td>\n",
              "      <td>7.066078e+10</td>\n",
              "    </tr>\n",
              "    <tr>\n",
              "      <th>1</th>\n",
              "      <td>2021-01-05</td>\n",
              "      <td>DFJ0</td>\n",
              "      <td>2512.5</td>\n",
              "      <td>2572.0</td>\n",
              "      <td>2512.5</td>\n",
              "      <td>2567.0</td>\n",
              "      <td>259353</td>\n",
              "      <td>210065</td>\n",
              "      <td>7.678534e+10</td>\n",
              "    </tr>\n",
              "    <tr>\n",
              "      <th>2</th>\n",
              "      <td>2021-01-06</td>\n",
              "      <td>DFJ0</td>\n",
              "      <td>2570.5</td>\n",
              "      <td>2605.0</td>\n",
              "      <td>2523.0</td>\n",
              "      <td>2559.5</td>\n",
              "      <td>403313</td>\n",
              "      <td>211331</td>\n",
              "      <td>1.204771e+11</td>\n",
              "    </tr>\n",
              "    <tr>\n",
              "      <th>3</th>\n",
              "      <td>2021-01-07</td>\n",
              "      <td>DFJ0</td>\n",
              "      <td>2557.0</td>\n",
              "      <td>2577.5</td>\n",
              "      <td>2530.5</td>\n",
              "      <td>2573.0</td>\n",
              "      <td>266491</td>\n",
              "      <td>202820</td>\n",
              "      <td>7.932230e+10</td>\n",
              "    </tr>\n",
              "    <tr>\n",
              "      <th>4</th>\n",
              "      <td>2021-01-08</td>\n",
              "      <td>DFJ0</td>\n",
              "      <td>2571.5</td>\n",
              "      <td>2574.5</td>\n",
              "      <td>2504.0</td>\n",
              "      <td>2508.0</td>\n",
              "      <td>358916</td>\n",
              "      <td>200436</td>\n",
              "      <td>1.061505e+11</td>\n",
              "    </tr>\n",
              "    <tr>\n",
              "      <th>...</th>\n",
              "      <td>...</td>\n",
              "      <td>...</td>\n",
              "      <td>...</td>\n",
              "      <td>...</td>\n",
              "      <td>...</td>\n",
              "      <td>...</td>\n",
              "      <td>...</td>\n",
              "      <td>...</td>\n",
              "      <td>...</td>\n",
              "    </tr>\n",
              "    <tr>\n",
              "      <th>238</th>\n",
              "      <td>2021-12-27</td>\n",
              "      <td>DFJ0</td>\n",
              "      <td>3160.0</td>\n",
              "      <td>3166.5</td>\n",
              "      <td>2917.0</td>\n",
              "      <td>2935.5</td>\n",
              "      <td>52189</td>\n",
              "      <td>35209</td>\n",
              "      <td>1.580921e+10</td>\n",
              "    </tr>\n",
              "    <tr>\n",
              "      <th>239</th>\n",
              "      <td>2021-12-28</td>\n",
              "      <td>DFJ0</td>\n",
              "      <td>2927.0</td>\n",
              "      <td>2948.0</td>\n",
              "      <td>2886.0</td>\n",
              "      <td>2895.0</td>\n",
              "      <td>38140</td>\n",
              "      <td>33650</td>\n",
              "      <td>1.111778e+10</td>\n",
              "    </tr>\n",
              "    <tr>\n",
              "      <th>240</th>\n",
              "      <td>2021-12-29</td>\n",
              "      <td>DFJ0</td>\n",
              "      <td>2895.0</td>\n",
              "      <td>2938.0</td>\n",
              "      <td>2874.5</td>\n",
              "      <td>2934.0</td>\n",
              "      <td>30455</td>\n",
              "      <td>31411</td>\n",
              "      <td>8.843391e+09</td>\n",
              "    </tr>\n",
              "    <tr>\n",
              "      <th>241</th>\n",
              "      <td>2021-12-30</td>\n",
              "      <td>DFJ0</td>\n",
              "      <td>2934.0</td>\n",
              "      <td>2953.0</td>\n",
              "      <td>2880.0</td>\n",
              "      <td>2911.0</td>\n",
              "      <td>34726</td>\n",
              "      <td>31328</td>\n",
              "      <td>1.012244e+10</td>\n",
              "    </tr>\n",
              "    <tr>\n",
              "      <th>242</th>\n",
              "      <td>2021-12-31</td>\n",
              "      <td>DFJ0</td>\n",
              "      <td>2898.5</td>\n",
              "      <td>2945.0</td>\n",
              "      <td>2862.0</td>\n",
              "      <td>2934.0</td>\n",
              "      <td>31426</td>\n",
              "      <td>29932</td>\n",
              "      <td>9.136912e+09</td>\n",
              "    </tr>\n",
              "  </tbody>\n",
              "</table>\n",
              "<p>243 rows × 9 columns</p>\n",
              "</div>"
            ],
            "text/plain": [
              "           date symbol    open    high     low   close  volume  openint  \\\n",
              "0    2021-01-04   DFJ0  2432.5  2523.0  2423.5  2514.0  244709   207826   \n",
              "1    2021-01-05   DFJ0  2512.5  2572.0  2512.5  2567.0  259353   210065   \n",
              "2    2021-01-06   DFJ0  2570.5  2605.0  2523.0  2559.5  403313   211331   \n",
              "3    2021-01-07   DFJ0  2557.0  2577.5  2530.5  2573.0  266491   202820   \n",
              "4    2021-01-08   DFJ0  2571.5  2574.5  2504.0  2508.0  358916   200436   \n",
              "..          ...    ...     ...     ...     ...     ...     ...      ...   \n",
              "238  2021-12-27   DFJ0  3160.0  3166.5  2917.0  2935.5   52189    35209   \n",
              "239  2021-12-28   DFJ0  2927.0  2948.0  2886.0  2895.0   38140    33650   \n",
              "240  2021-12-29   DFJ0  2895.0  2938.0  2874.5  2934.0   30455    31411   \n",
              "241  2021-12-30   DFJ0  2934.0  2953.0  2880.0  2911.0   34726    31328   \n",
              "242  2021-12-31   DFJ0  2898.5  2945.0  2862.0  2934.0   31426    29932   \n",
              "\n",
              "           amount  \n",
              "0    7.066078e+10  \n",
              "1    7.678534e+10  \n",
              "2    1.204771e+11  \n",
              "3    7.932230e+10  \n",
              "4    1.061505e+11  \n",
              "..            ...  \n",
              "238  1.580921e+10  \n",
              "239  1.111778e+10  \n",
              "240  8.843391e+09  \n",
              "241  1.012244e+10  \n",
              "242  9.136912e+09  \n",
              "\n",
              "[243 rows x 9 columns]"
            ]
          },
          "execution_count": 9,
          "metadata": {},
          "output_type": "execute_result"
        }
      ],
      "source": [
        "df"
      ]
    },
    {
      "cell_type": "code",
      "execution_count": null,
      "metadata": {},
      "outputs": [],
      "source": []
    }
  ],
  "metadata": {
    "colab": {
      "authorship_tag": "ABX9TyOQoOhYd+mi/qlQtuWZdN+V",
      "include_colab_link": true,
      "name": "pandas and numpy.ipynb",
      "provenance": []
    },
    "kernelspec": {
      "display_name": "Python 3",
      "name": "python3"
    },
    "language_info": {
      "codemirror_mode": {
        "name": "ipython",
        "version": 3
      },
      "file_extension": ".py",
      "mimetype": "text/x-python",
      "name": "python",
      "nbconvert_exporter": "python",
      "pygments_lexer": "ipython3",
      "version": "3.7.11"
    }
  },
  "nbformat": 4,
  "nbformat_minor": 0
}
