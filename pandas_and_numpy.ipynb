{
  "nbformat": 4,
  "nbformat_minor": 0,
  "metadata": {
    "colab": {
      "name": "pandas and numpy.ipynb",
      "provenance": [],
      "authorship_tag": "ABX9TyMLHgZ3q5zboRfIeaJLi/lV",
      "include_colab_link": true
    },
    "kernelspec": {
      "name": "python3",
      "display_name": "Python 3"
    },
    "language_info": {
      "name": "python"
    }
  },
  "cells": [
    {
      "cell_type": "markdown",
      "metadata": {
        "id": "view-in-github",
        "colab_type": "text"
      },
      "source": [
        "<a href=\"https://colab.research.google.com/github/seizetheday/pandas/blob/main/pandas_and_numpy.ipynb\" target=\"_parent\"><img src=\"https://colab.research.google.com/assets/colab-badge.svg\" alt=\"Open In Colab\"/></a>"
      ]
    },
    {
      "cell_type": "code",
      "execution_count": null,
      "metadata": {
        "id": "TJA8uiTjpHNu"
      },
      "outputs": [],
      "source": [
        "import pandas as pd\n",
        "import numpy as np"
      ]
    },
    {
      "cell_type": "markdown",
      "source": [
        "# Data sample"
      ],
      "metadata": {
        "id": "VJfK9uXLpzqa"
      }
    },
    {
      "cell_type": "code",
      "source": [
        "data = {'Country': ['Belgium',  'India',  'Brazil'],\n",
        "'Capital': ['Brussels',  'New Delhi',  'Brasilia'],\n",
        "'Population': [100, 100, 100]} \n",
        "\n",
        "df = pd.DataFrame(data,columns=['Country',  'Capital',  'Population'])"
      ],
      "metadata": {
        "id": "o79sLRL8pQB9"
      },
      "execution_count": null,
      "outputs": []
    },
    {
      "cell_type": "code",
      "source": [
        "(df['Population'] == 100).all()"
      ],
      "metadata": {
        "colab": {
          "base_uri": "https://localhost:8080/"
        },
        "id": "LPHlVI2dp6df",
        "outputId": "892e88fb-5c5f-4ba4-927e-2ad2256877d7"
      },
      "execution_count": null,
      "outputs": [
        {
          "output_type": "execute_result",
          "data": {
            "text/plain": [
              "True"
            ]
          },
          "metadata": {},
          "execution_count": 13
        }
      ]
    }
  ]
}