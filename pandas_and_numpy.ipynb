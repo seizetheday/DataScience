{
  "cells": [
    {
      "cell_type": "code",
      "execution_count": null,
      "metadata": {
        "id": "TJA8uiTjpHNu"
      },
      "outputs": [],
      "source": [
        "import pandas as pd\n",
        "import numpy as np"
      ]
    },
    {
      "cell_type": "markdown",
      "metadata": {
        "id": "VJfK9uXLpzqa"
      },
      "source": [
        "# Data sample"
      ]
    },
    {
      "cell_type": "code",
      "execution_count": null,
      "metadata": {
        "id": "o79sLRL8pQB9"
      },
      "outputs": [],
      "source": [
        "data = {'Country': ['Belgium',  'India',  'Brazil'],\n",
        "        'Capital': ['Brussels',  'New Delhi',  'Brasilia'],\n",
        "        'Population': [100, 100, 200]} \n",
        "\n",
        "df = pd.DataFrame(data,columns=['Country',  'Capital',  'Population'])\n",
        "(df['Population'] == 100).all()"
      ]
    },
    {
      "cell_type": "code",
      "execution_count": null,
      "metadata": {
        "id": "Dg9rrkst-bWx"
      },
      "outputs": [],
      "source": [
        "df = pd.read_csv('datas\\DFJ_2021.csv')\n",
        "df"
      ]
    }
  ],
  "metadata": {
    "colab": {
      "authorship_tag": "ABX9TyOQoOhYd+mi/qlQtuWZdN+V",
      "include_colab_link": true,
      "name": "pandas and numpy.ipynb",
      "provenance": []
    },
    "kernelspec": {
      "display_name": "Python 3",
      "name": "python3"
    },
    "language_info": {
      "codemirror_mode": {
        "name": "ipython",
        "version": 3
      },
      "file_extension": ".py",
      "mimetype": "text/x-python",
      "name": "python",
      "nbconvert_exporter": "python",
      "pygments_lexer": "ipython3",
      "version": "3.7.11"
    }
  },
  "nbformat": 4,
  "nbformat_minor": 0
}
