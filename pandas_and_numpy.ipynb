{
  "cells": [
    {
      "cell_type": "code",
      "execution_count": null,
      "metadata": {
        "id": "TJA8uiTjpHNu"
      },
      "outputs": [],
      "source": [
        "import pandas as pd\n",
        "import numpy as np"
      ]
    },
    {
      "cell_type": "markdown",
      "metadata": {
        "id": "VJfK9uXLpzqa"
      },
      "source": [
        "# Data sample"
      ]
    },
    {
      "cell_type": "code",
      "execution_count": null,
      "metadata": {
        "id": "o79sLRL8pQB9"
      },
      "outputs": [],
      "source": [
        "data = {'Country': ['Belgium',  'India',  'Brazil'],\n",
        "        'Capital': ['Brussels',  'New Delhi',  'Brasilia'],\n",
        "        'Population': [100, 100, 200]} \n",
        "\n",
        "df = pd.DataFrame(data,columns=['Country',  'Capital',  'Population'])\n",
        "(df['Population'] == 100).all()"
      ]
    },
    {
      "cell_type": "markdown",
      "metadata": {},
      "source": [
        "## Dataframe update"
      ]
    },
    {
      "cell_type": "code",
      "execution_count": null,
      "metadata": {},
      "outputs": [],
      "source": [
        "df = pd.DataFrame({'A': [1, 2, 3],\n",
        "                   'B': [400, 500, 600]})\n",
        "new_df = pd.DataFrame({'B': [4, 5, 6],\n",
        "                       'A': [7, 8, 9]})\n",
        "\n",
        "df.update(new_df)"
      ]
    },
    {
      "cell_type": "code",
      "execution_count": null,
      "metadata": {},
      "outputs": [],
      "source": [
        "df = pd.DataFrame({'A': ['a', 'b', 'c'],\n",
        "                   'B': ['x', 'y', 'z']})\n",
        "new_df = pd.DataFrame({'B': ['d', 'e']}, index=[1, 2])\n",
        "#df.update(new_df)\n",
        "#df"
      ]
    }
  ],
  "metadata": {
    "colab": {
      "authorship_tag": "ABX9TyOQoOhYd+mi/qlQtuWZdN+V",
      "include_colab_link": true,
      "name": "pandas and numpy.ipynb",
      "provenance": []
    },
    "kernelspec": {
      "display_name": "Python 3",
      "name": "python3"
    },
    "language_info": {
      "codemirror_mode": {
        "name": "ipython",
        "version": 3
      },
      "file_extension": ".py",
      "mimetype": "text/x-python",
      "name": "python",
      "nbconvert_exporter": "python",
      "pygments_lexer": "ipython3",
      "version": "3.7.11"
    }
  },
  "nbformat": 4,
  "nbformat_minor": 0
}
