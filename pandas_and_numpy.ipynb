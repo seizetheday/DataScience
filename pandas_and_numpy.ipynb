{
  "nbformat": 4,
  "nbformat_minor": 0,
  "metadata": {
    "colab": {
      "name": "pandas and numpy.ipynb",
      "provenance": [],
      "authorship_tag": "ABX9TyOQoOhYd+mi/qlQtuWZdN+V",
      "include_colab_link": true
    },
    "kernelspec": {
      "name": "python3",
      "display_name": "Python 3"
    },
    "language_info": {
      "name": "python"
    }
  },
  "cells": [
    {
      "cell_type": "markdown",
      "metadata": {
        "id": "view-in-github",
        "colab_type": "text"
      },
      "source": [
        "<a href=\"https://colab.research.google.com/github/seizetheday/pandas/blob/main/pandas_and_numpy.ipynb\" target=\"_parent\"><img src=\"https://colab.research.google.com/assets/colab-badge.svg\" alt=\"Open In Colab\"/></a>"
      ]
    },
    {
      "cell_type": "code",
      "execution_count": 2,
      "metadata": {
        "id": "TJA8uiTjpHNu"
      },
      "outputs": [],
      "source": [
        "import pandas as pd\n",
        "import numpy as np"
      ]
    },
    {
      "cell_type": "markdown",
      "source": [
        "# Data sample"
      ],
      "metadata": {
        "id": "VJfK9uXLpzqa"
      }
    },
    {
      "cell_type": "code",
      "source": [
        "data = {'Country': ['Belgium',  'India',  'Brazil'],\n",
        "'Capital': ['Brussels',  'New Delhi',  'Brasilia'],\n",
        "'Population': [100, 100, 200]} \n",
        "\n",
        "df = pd.DataFrame(data,columns=['Country',  'Capital',  'Population'])"
      ],
      "metadata": {
        "id": "o79sLRL8pQB9"
      },
      "execution_count": 3,
      "outputs": []
    },
    {
      "cell_type": "code",
      "source": [
        "(df['Population'] == 100).all()"
      ],
      "metadata": {
        "colab": {
          "base_uri": "https://localhost:8080/"
        },
        "id": "LPHlVI2dp6df",
        "outputId": "50efb96f-f215-490a-9927-6b85f17077ab"
      },
      "execution_count": 4,
      "outputs": [
        {
          "output_type": "execute_result",
          "data": {
            "text/plain": [
              "False"
            ]
          },
          "metadata": {},
          "execution_count": 4
        }
      ]
    },
    {
      "cell_type": "code",
      "source": [
        ""
      ],
      "metadata": {
        "id": "Dg9rrkst-bWx"
      },
      "execution_count": null,
      "outputs": []
    }
  ]
}